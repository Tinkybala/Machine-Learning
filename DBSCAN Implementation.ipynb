{
 "cells": [
  {
   "cell_type": "code",
   "execution_count": 1,
   "id": "dd34ece0",
   "metadata": {},
   "outputs": [],
   "source": [
    "import math, matplotlib.pyplot as plt, torch"
   ]
  },
  {
   "cell_type": "code",
   "execution_count": 2,
   "id": "597ab53a",
   "metadata": {},
   "outputs": [],
   "source": [
    "torch.set_printoptions(precision=3, linewidth=140, sci_mode=False)"
   ]
  },
  {
   "cell_type": "markdown",
   "id": "2e703fdc",
   "metadata": {},
   "source": [
    "## Create Data"
   ]
  },
  {
   "cell_type": "markdown",
   "id": "1993edbe",
   "metadata": {},
   "source": [
    "Let's create some data with 4 clusters and 250 data points in each cluster"
   ]
  },
  {
   "cell_type": "code",
   "execution_count": 413,
   "id": "bf0531fa",
   "metadata": {},
   "outputs": [],
   "source": [
    "n_clusters = 6\n",
    "n_samples = 250"
   ]
  },
  {
   "cell_type": "markdown",
   "id": "8b95acdb",
   "metadata": {},
   "source": [
    "Randomly generate 6 (x,y) coordinates that will act as the center of each cluster"
   ]
  },
  {
   "cell_type": "code",
   "execution_count": 414,
   "id": "f9c0b954",
   "metadata": {},
   "outputs": [],
   "source": [
    "centers = torch.rand(n_clusters, 2)*70-35"
   ]
  },
  {
   "cell_type": "code",
   "execution_count": 415,
   "id": "7d9f5a85",
   "metadata": {},
   "outputs": [
    {
     "data": {
      "text/plain": [
       "tensor([[ 23.243,  11.558],\n",
       "        [ 31.871,  14.926],\n",
       "        [-32.264,  -7.003],\n",
       "        [ 20.213, -21.441],\n",
       "        [ 10.127,  -1.106],\n",
       "        [-12.041,  -2.180]])"
      ]
     },
     "execution_count": 415,
     "metadata": {},
     "output_type": "execute_result"
    }
   ],
   "source": [
    "centers"
   ]
  },
  {
   "cell_type": "markdown",
   "id": "3014cffa",
   "metadata": {},
   "source": [
    "Randomly generate 250 points around each cluster's center using a normal distribution"
   ]
  },
  {
   "cell_type": "code",
   "execution_count": 416,
   "id": "faa26753",
   "metadata": {},
   "outputs": [],
   "source": [
    "from torch.distributions.multivariate_normal import MultivariateNormal\n",
    "from torch import tensor"
   ]
  },
  {
   "cell_type": "code",
   "execution_count": 417,
   "id": "a593e5eb",
   "metadata": {},
   "outputs": [],
   "source": [
    "def sample(mean): return MultivariateNormal(mean, torch.diag(tensor([9.,9.]))).sample((n_samples,))"
   ]
  },
  {
   "cell_type": "code",
   "execution_count": 418,
   "id": "f55ecddb",
   "metadata": {},
   "outputs": [],
   "source": [
    "m = centers[0]"
   ]
  },
  {
   "cell_type": "code",
   "execution_count": 419,
   "id": "def40253",
   "metadata": {},
   "outputs": [
    {
     "data": {
      "text/plain": [
       "tensor([[28.829, 11.157],\n",
       "        [20.882, 12.562],\n",
       "        [24.344, 10.567],\n",
       "        [24.977, 11.950],\n",
       "        [22.288, 13.601],\n",
       "        [25.229, 11.351],\n",
       "        [26.809, 14.041],\n",
       "        [22.881, 14.463],\n",
       "        [19.064, 14.002],\n",
       "        [24.426,  9.893]])"
      ]
     },
     "execution_count": 419,
     "metadata": {},
     "output_type": "execute_result"
    }
   ],
   "source": [
    "sample(m)[:10]"
   ]
  },
  {
   "cell_type": "code",
   "execution_count": 420,
   "id": "1876c90e",
   "metadata": {},
   "outputs": [
    {
     "data": {
      "text/plain": [
       "torch.Size([1500, 2])"
      ]
     },
     "execution_count": 420,
     "metadata": {},
     "output_type": "execute_result"
    }
   ],
   "source": [
    "slices = [sample(c) for c in centers]\n",
    "data = torch.cat(slices)\n",
    "data.shape"
   ]
  },
  {
   "cell_type": "code",
   "execution_count": 453,
   "id": "6855e49a",
   "metadata": {},
   "outputs": [],
   "source": [
    "def plot_data(centers, data, n_samples, ax=None):\n",
    "    if ax is None: _,ax = plt.subplots()\n",
    "    for i, center in enumerate(centers):\n",
    "        samples = data[i*n_samples:(i+1)*n_samples]\n",
    "        ax.scatter(samples[:,0], samples[:,1], s=1)\n",
    "        ax.plot(*center, markersize=10, marker=\"x\", color='k', mew=5)\n",
    "        ax.plot(*center, markersize=5, marker=\"x\", color='w', mew=2)"
   ]
  },
  {
   "cell_type": "code",
   "execution_count": 454,
   "id": "5f1e2d61",
   "metadata": {},
   "outputs": [
    {
     "data": {
      "image/png": "[encoded data removed]",
      "text/plain": [
       "<Figure size 432x288 with 1 Axes>"
      ]
     },
     "metadata": {
      "needs_background": "light"
     },
     "output_type": "display_data"
    }
   ],
   "source": [
    "plot_data(centers, data, n_samples)"
   ]
  },
  {
   "cell_type": "markdown",
   "id": "19a92f0c",
   "metadata": {},
   "source": [
    "## DBSCAN Clustering "
   ]
  },
  {
   "cell_type": "code",
   "execution_count": 455,
   "id": "47fa02d7",
   "metadata": {},
   "outputs": [],
   "source": [
    " x = data[0]\n",
    "X = data.clone()"
   ]
  },
  {
   "cell_type": "code",
   "execution_count": 456,
   "id": "8f3c7bb2",
   "metadata": {},
   "outputs": [
    {
     "data": {
      "text/plain": [
       "(torch.Size([2]), torch.Size([1500, 2]))"
      ]
     },
     "execution_count": 456,
     "metadata": {},
     "output_type": "execute_result"
    }
   ],
   "source": [
    "x.shape, X.shape"
   ]
  },
  {
   "cell_type": "markdown",
   "id": "2ce9e54b",
   "metadata": {},
   "source": [
    "We can calculate the L2 norm between the first point in our data and all the other points. Broadcasting is used here for the subtraction x-X."
   ]
  },
  {
   "cell_type": "code",
   "execution_count": 457,
   "id": "e7526939",
   "metadata": {},
   "outputs": [
    {
     "data": {
      "text/plain": [
       "tensor([0.000, 5.214, 4.958, 3.523, 5.660])"
      ]
     },
     "execution_count": 457,
     "metadata": {},
     "output_type": "execute_result"
    }
   ],
   "source": [
    "dist = ((x-X)**2).sum(1).sqrt()\n",
    "dist[:5]"
   ]
  },
  {
   "cell_type": "markdown",
   "id": "e955871e",
   "metadata": {},
   "source": [
    "The same results can be achieved using Einstein summation"
   ]
  },
  {
   "cell_type": "code",
   "execution_count": 458,
   "id": "a72f53ff",
   "metadata": {},
   "outputs": [
    {
     "data": {
      "text/plain": [
       "tensor([0.000, 5.214, 4.958, 3.523, 5.660])"
      ]
     },
     "execution_count": 458,
     "metadata": {},
     "output_type": "execute_result"
    }
   ],
   "source": [
    "delta = x - X\n",
    "dist = torch.einsum(\"ij, ij->i\", delta, delta).sqrt()\n",
    "dist[:5]"
   ]
  },
  {
   "cell_type": "markdown",
   "id": "754837d4",
   "metadata": {},
   "source": [
    "Set number of nearby points required to 5 and the radius to 2"
   ]
  },
  {
   "cell_type": "code",
   "execution_count": 459,
   "id": "df726bef",
   "metadata": {},
   "outputs": [],
   "source": [
    "r = 2\n",
    "n_required = 5"
   ]
  },
  {
   "cell_type": "code",
   "execution_count": 460,
   "id": "0625556d",
   "metadata": {},
   "outputs": [
    {
     "data": {
      "text/plain": [
       "tensor([[  0],\n",
       "        [ 29],\n",
       "        [ 33],\n",
       "        [ 37],\n",
       "        [ 44],\n",
       "        [ 85],\n",
       "        [ 91],\n",
       "        [ 98],\n",
       "        [154],\n",
       "        [156],\n",
       "        [162],\n",
       "        [174],\n",
       "        [177],\n",
       "        [181],\n",
       "        [194],\n",
       "        [197],\n",
       "        [224],\n",
       "        [228],\n",
       "        [245]])"
      ]
     },
     "execution_count": 460,
     "metadata": {},
     "output_type": "execute_result"
    }
   ],
   "source": [
    "nearby = torch.nonzero(dist <= r)\n",
    "nearby"
   ]
  },
  {
   "cell_type": "code",
   "execution_count": 461,
   "id": "10df3c61",
   "metadata": {},
   "outputs": [
    {
     "data": {
      "text/plain": [
       "torch.Size([1500, 2])"
      ]
     },
     "execution_count": 461,
     "metadata": {},
     "output_type": "execute_result"
    }
   ],
   "source": [
    "X.shape"
   ]
  },
  {
   "cell_type": "code",
   "execution_count": 462,
   "id": "faab968c",
   "metadata": {},
   "outputs": [],
   "source": [
    "def expand_cluster(nearby, cluster_label):\n",
    "    i = 0\n",
    "    while(i < nearby.shape[0]):\n",
    "        x_index = nearby[i].item()\n",
    "        if not visited[x_index]:\n",
    "            visited[x_index] = True\n",
    "            delta = X[x_index] - X\n",
    "            dist = torch.einsum(\"ij, ij->i\", delta, delta).sqrt()\n",
    "            nearby_nearby = torch.nonzero(dist <= r)\n",
    "            n_nearby_nearby = nearby.shape[0]\n",
    "            if n_nearby_nearby >= n_required:\n",
    "                nearby = torch.cat([nearby, nearby_nearby])\n",
    "                \n",
    "        #If nearby point not already in another group, add to current group\n",
    "        if labels[x_index] == 0:\n",
    "            labels[x_index] = cluster_label\n",
    "        i += 1\n",
    "                "
   ]
  },
  {
   "cell_type": "code",
   "execution_count": 463,
   "id": "483473f4",
   "metadata": {},
   "outputs": [],
   "source": [
    "labels = torch.zeros(n_samples * n_clusters,1)\n",
    "cluster_label = 0\n",
    "visited = torch.zeros(n_samples * n_clusters)\n",
    "for i,x in enumerate(X):\n",
    "    if visited[i]:\n",
    "        continue\n",
    "    visited[i] = True\n",
    "    delta = x - X\n",
    "    dist = torch.einsum(\"ij, ij->i\", delta, delta).sqrt()\n",
    "    nearby = torch.nonzero(dist <= r)\n",
    "    n_nearby = nearby.shape[0]\n",
    "    if n_nearby >= n_required:\n",
    "        cluster_label += 1\n",
    "        labels[i] = cluster_label\n",
    "        expand_cluster(nearby, cluster_label)\n",
    "    \n",
    "X = torch.cat([X, labels], dim=1)"
   ]
  },
  {
   "cell_type": "code",
   "execution_count": 464,
   "id": "95cee5ee",
   "metadata": {},
   "outputs": [
    {
     "data": {
      "image/png": "[encoded data removed]",
      "text/plain": [
       "<Figure size 432x288 with 1 Axes>"
      ]
     },
     "metadata": {
      "needs_background": "light"
     },
     "output_type": "display_data"
    }
   ],
   "source": [
    "plot_data(centers, data, n_samples)"
   ]
  },
  {
   "cell_type": "code",
   "execution_count": 465,
   "id": "ed164379",
   "metadata": {},
   "outputs": [],
   "source": [
    "def plot_data(centers, data, n_samples, ax=None):\n",
    "    if ax is None: _,ax = plt.subplots()\n",
    "    ax.scatter(X[:, 0], X[:, 1], c=labels, s=1)\n",
    "    for i, center in enumerate(centers):\n",
    "        ax.plot(*center, markersize=10, marker=\"x\", color='k', mew=5)\n",
    "        ax.plot(*center, markersize=5, marker=\"x\", color='w', mew=2)"
   ]
  },
  {
   "cell_type": "code",
   "execution_count": 466,
   "id": "27790b08",
   "metadata": {},
   "outputs": [
    {
     "data": {
      "image/png": "[encoded data removed]",
      "text/plain": [
       "<Figure size 432x288 with 1 Axes>"
      ]
     },
     "metadata": {
      "needs_background": "light"
     },
     "output_type": "display_data"
    }
   ],
   "source": [
    "plot_data(centers, data, n_samples)"
   ]
  },
  {
   "cell_type": "code",
   "execution_count": 467,
   "id": "005a5a9e",
   "metadata": {},
   "outputs": [],
   "source": [
    "def dbscan(X, r, n_required):\n",
    "    global labels, visited\n",
    "    labels = torch.zeros(n_samples * n_clusters,1)\n",
    "    cluster_label = 0\n",
    "    visited = torch.zeros(n_samples * n_clusters,1)\n",
    "    for i,x in enumerate(X):\n",
    "        if visited[i]:\n",
    "            continue\n",
    "        visited[i] = True\n",
    "        delta = x - X\n",
    "        dist = torch.einsum(\"ij, ij->i\", delta, delta).sqrt()\n",
    "        nearby = torch.nonzero(dist <= r)\n",
    "        n_nearby = nearby.shape[0]\n",
    "        if n_nearby >= n_required:\n",
    "            cluster_label += 1\n",
    "            labels[i] = cluster_label\n",
    "            expand_cluster(nearby, cluster_label)\n",
    "\n",
    "    return labels"
   ]
  },
  {
   "cell_type": "code",
   "execution_count": 468,
   "id": "f0dbced8",
   "metadata": {},
   "outputs": [
    {
     "data": {
      "text/plain": [
       "tensor([[1.],\n",
       "        [1.],\n",
       "        [1.],\n",
       "        ...,\n",
       "        [5.],\n",
       "        [5.],\n",
       "        [5.]])"
      ]
     },
     "execution_count": 468,
     "metadata": {},
     "output_type": "execute_result"
    }
   ],
   "source": [
    "dbscan(X, r, n_required)"
   ]
  },
  {
   "cell_type": "code",
   "execution_count": 470,
   "id": "f14270df",
   "metadata": {},
   "outputs": [
    {
     "name": "stdout",
     "output_type": "stream",
     "text": [
      "1.43 s ± 45.9 ms per loop (mean ± std. dev. of 7 runs, 1 loop each)\n"
     ]
    }
   ],
   "source": [
    "%timeit labels = dbscan(X, r, n_required)"
   ]
  },
  {
   "cell_type": "markdown",
   "id": "81a5be46",
   "metadata": {},
   "source": [
    "## To-do: Optimise using GPU acceleration and do Animation"
   ]
  },
  {
   "cell_type": "code",
   "execution_count": 471,
   "id": "20c25d4f",
   "metadata": {},
   "outputs": [],
   "source": [
    "from matplotlib.animation import FuncAnimation\n",
    "from IPython.display import HTML"
   ]
  },
  {
   "cell_type": "code",
   "execution_count": null,
   "id": "fced29eb",
   "metadata": {},
   "outputs": [],
   "source": []
  }
 ],
 "metadata": {
  "kernelspec": {
   "display_name": "Python 3 (ipykernel)",
   "language": "python",
   "name": "python3"
  },
  "language_info": {
   "codemirror_mode": {
    "name": "ipython",
    "version": 3
   },
   "file_extension": ".py",
   "mimetype": "text/x-python",
   "name": "python",
   "nbconvert_exporter": "python",
   "pygments_lexer": "ipython3",
   "version": "3.9.7"
  }
 },
 "nbformat": 4,
 "nbformat_minor": 5
}
